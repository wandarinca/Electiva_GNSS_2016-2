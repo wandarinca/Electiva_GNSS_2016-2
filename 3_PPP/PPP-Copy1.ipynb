{
 "cells": [
  {
   "cell_type": "code",
   "execution_count": null,
   "metadata": {
    "collapsed": true
   },
   "outputs": [],
   "source": [
    "from IPython.display import Image"
   ]
  },
  {
   "cell_type": "markdown",
   "metadata": {
    "slideshow": {
     "slide_type": "slide"
    }
   },
   "source": [
    "# Precision Point Position"
   ]
  },
  {
   "cell_type": "markdown",
   "metadata": {},
   "source": [
    "**¿Qué es ?**\n",
    ">Emplea **datos de medición con fase no diferenciados**, es decir provenientes de un solo receptor de tipo geodésico, más **datos de corrección de los errores en los relojes de los satélites y órbitas precisas**, junto a un **esquema de modelamiento adicional de errores**, con la finalidad de obtener una solución con una exactitud a nivel de cm./dm.. En este caso los “puntos fijos” pasan a ser directamente los satélites.[1] El PPP se suele hacer con receptores de doble frecuencia y surgió por la disponibilidad de los productos (por ejemplo IGS)"
   ]
  },
  {
   "cell_type": "code",
   "execution_count": null,
   "metadata": {
    "collapsed": false
   },
   "outputs": [],
   "source": [
    "Image(\"PPP.png\")"
   ]
  },
  {
   "cell_type": "markdown",
   "metadata": {
    "slideshow": {
     "slide_type": "slide"
    }
   },
   "source": [
    "Se diferncia de RTK en que no utiliza datos de estaciones terrestres con ubicación conocida. La palabra \"preciso\" es para diferenciar de técnicas que usan simplemente observables de código suavisados por la fase."
   ]
  },
  {
   "cell_type": "markdown",
   "metadata": {
    "collapsed": true
   },
   "source": [
    "Para máxima precisión **la fase-carrier debe ser  usada junto con el código**, de esta manera se puede llegar a presición de centímetros en posicionamiento estático y decímetros en el caso de un receptor que se encuentra en movimiento. Como se habló anterioirmente la fase además de traer más presición trae **ambiguedades y saltos de ciclo** que deben ser resueltas."
   ]
  },
  {
   "cell_type": "markdown",
   "metadata": {},
   "source": [
    "# Modelado de términos\n",
    "\n",
    "Para el modelado de los términos de las ecuaciones de posición se tienen en cuenta:\n",
    "- Órbitas y relojes precisos\n",
    "- APC\n",
    "-  Relatividad\n",
    "- Atmósfera\n",
    "- Deformación de la tierra"
   ]
  },
  {
   "cell_type": "markdown",
   "metadata": {
    "slideshow": {
     "slide_type": "slide"
    }
   },
   "source": [
    "\n",
    "## Órbitas  y relojes precisos\n",
    "\n",
    "Los archivos para orbitas y relojes precisos (FINAL de IGS) deben ser usados en vez de los enviados que se usan en SPP (rapid,ultrarapid, etc). Fuentes: <a href =\"https://igscb.jpl.nasa.gov/components/prods.html\">Productos de IGS</a>,  <a href =\"http://www.igs.org/products\">Productos de IGS (nuevo sitio)</a> Existen otras fuentes que también proveen estos datos, algunas privadas."
   ]
  },
  {
   "cell_type": "code",
   "execution_count": null,
   "metadata": {
    "collapsed": false
   },
   "outputs": [],
   "source": [
    "Image(\"products.png\")"
   ]
  },
  {
   "cell_type": "markdown",
   "metadata": {
    "slideshow": {
     "slide_type": "slide"
    }
   },
   "source": [
    "**Órbitas**\n",
    "\n",
    "El polinomio \n",
    "Las coordenadas de satélites entre épocas se interpolan con polinomios grado 10, suficiente para obtener precision de centímetros, con 15 minutos de datos. Los satélites en eclipse se descartan."
   ]
  },
  {
   "cell_type": "code",
   "execution_count": null,
   "metadata": {
    "collapsed": false
   },
   "outputs": [],
   "source": [
    "Image(\"poliinterpol.png\")"
   ]
  },
  {
   "cell_type": "markdown",
   "metadata": {
    "slideshow": {
     "slide_type": "slide"
    }
   },
   "source": [
    "### APC Satélite\n",
    "\n",
    "Las órbitas son referidas al centro de masa del satélite, de modo que hay que tener en cuenta el vector offset de centro de fase.\n",
    "\n",
    "Si  $\\Delta_{APC}$ es el offset en el sistema centrado en el satélite (i,j,k). Las coordenadas del APC de sat en ECEF están dadas por:\n",
    "\n",
    "$r^{sat_{APC}} = r^{sat_{MC}} + \\textbf {R}.\\Delta_{APC} $\n",
    "\n",
    "Donde $\\textbf {R} = [\\hat{i},\\hat{j},\\hat{k}]$\n",
    "\n"
   ]
  },
  {
   "cell_type": "markdown",
   "metadata": {
    "slideshow": {
     "slide_type": "slide"
    }
   },
   "source": [
    "### Relojes\n",
    "\n",
    "Los relojes de satélites **no deben ser interpolados si su tasa de muestreo es de 30 segundos o menos**, sólo las épocas con relojes disponibles deben ser usadas. De lo contrario se puede usar polinomio de primer grado.\n",
    "\n",
    "### Efectos de la Relatividad \n",
    "\n",
    "\n",
    "Al efecto shapiro sólo se tiene en cuenta en aplicaciones de muy alta precisión pues solo afecta en ~2 cm la posición, debido a la curvatura espacio-tiempo producida por el campo gravitacional el rango euclidiano se corrige, este efecto se modela como un retraso:\n",
    "\n",
    "$\\Delta \\rho_{rel}= \\frac{2 \\mu}{c^2} ln \\frac{r^{sat}+r_{rcv}+r^{sat}_{rcv}}{r^{sat}+r_{rcv}-r^{sat}_{rcv}}$\n",
    "\n",
    "$r^{sat}, r_{rcv}$ son distancias geocéntricas.\n",
    "\n",
    "$r^{sat}_{rcv}$ es la distancia entre receptor y satélite.\n",
    "\n",
    "\n",
    "**pintar correcciones de rango**"
   ]
  },
  {
   "cell_type": "markdown",
   "metadata": {
    "slideshow": {
     "slide_type": "slide"
    }
   },
   "source": [
    "### Efectos atmosféricos\n",
    "\n",
    "**Ionosfera**\n",
    "\n",
    "PPP se hace en receptores de doble frecuencia por lo tanto las combinaciones libres del efecto dela ionosfera se usan pues es uno de los efectos más difíciles de modelar, además los TGD (Total Group Delay) de los códigos también se cancelan.\n",
    "\n",
    "<center>$\\Phi_{iono_free} = \\frac{f_1^2\\Phi_1 - f_2^2\\Phi_2}{f_1^2-f_2^2}$</center>\n",
    "\n",
    "<center>$R_{iono_free} = \\frac{f_1^2R_1 - f_2^2R_2}{f_1^2-f_2^2}$</center>\n",
    "\n",
    "**Troposfera**\n",
    "\n",
    "La refración debe ser modelada y uno de los modelos quese usan es el modelo de Niell, el cual consideradiferentes factores de oblicuidad para los componentes húmedos y secos.\n",
    "\n",
    "$Tr(E) = Tr_{z,dry}.M_{dry}(E)+Tr_{z,wet}.M_{wet}(E)$"
   ]
  },
  {
   "cell_type": "markdown",
   "metadata": {},
   "source": [
    "### Wind-up\n",
    "\n",
    "Afecta solo a las medidas de fase debido a la naturaleza electromagnética de las ondas polarizadas circularmente. Depende de la orientación relativa de las antenas.\n",
    "\n",
    "Si el receptor es fijo el wind-up es debido al movimiento del satéliteya que los paneles deben apuntar hacia el sol mientras la antena sigue apuntando al centro de la tierra, causando una variación de fase que el receptor entiende como una variación de rango."
   ]
  },
  {
   "cell_type": "markdown",
   "metadata": {},
   "source": [
    "### Deformación de la Tierra\n",
    "\n",
    "El movimiento de la corteza de la tierra(mareas sólidas) varía la ubicación del receptor, esto es debido a la fuerza de atracción gravitacional de los cuerpos cercanos (sol, luna)"
   ]
  },
  {
   "cell_type": "markdown",
   "metadata": {},
   "source": [
    "# Modelo linealizado para PPP\n",
    "\n",
    "$R_c^j = \\rho^j +c(\\delta t-\\delta t^j) + Tr^j + M_c^j + \\varepsilon_c^j $\n",
    "\n",
    "$\\Phi_c^j = \\rho^j +c(\\delta t-\\delta t^j) + Tr^j + \\lambda_N w^j+B_C^j+ m_C^j + \\epsilon_c^j $\n",
    "\n",
    "\n",
    "\n",
    "$y = Gx$\n",
    "\n",
    "Donde y son los residuales de fase y código de la combinacion libre de retraso de ionosfera. $\\rho$ se refiere al APC en esta combinación. $\\delta t^j$ incluye la correccio relativista debido a la eccentricidad de la órbita"
   ]
  },
  {
   "cell_type": "code",
   "execution_count": null,
   "metadata": {
    "collapsed": false
   },
   "outputs": [],
   "source": [
    "Image(\"yPPP.png\")"
   ]
  },
  {
   "cell_type": "markdown",
   "metadata": {},
   "source": [
    "$Tr_0$ es el valor nominal de la corrección troposférica."
   ]
  },
  {
   "cell_type": "markdown",
   "metadata": {},
   "source": [
    "### Matriz de geometría\n",
    "\n",
    "El componente húmero del modelo troposférico $M_{wet}$ es un elemento de la matriz mientras que $\\Delta Tr_{z,wet}$ es uno de los parámetros a ser estimados, la multiplicación de ambos da la desviación del retraso nominal."
   ]
  },
  {
   "cell_type": "code",
   "execution_count": null,
   "metadata": {
    "collapsed": false
   },
   "outputs": [],
   "source": [
    "Image(\"GPPP.png\")"
   ]
  },
  {
   "cell_type": "code",
   "execution_count": null,
   "metadata": {
    "collapsed": false
   },
   "outputs": [],
   "source": [
    "Image(\"xPPP.png\")"
   ]
  },
  {
   "cell_type": "markdown",
   "metadata": {},
   "source": [
    "# Solución\n",
    "\n",
    " El sistema $y = Gx$ puede solucionarse mediante filtros de Kalman. Se consideran los bias de fase $B_i^c$ como constantes en los arcos y los saltos de ciclo  como ruido blanco. \n",
    " \n",
    " \n",
    "## Ventajas y desventajas de PPP\n",
    "\n",
    "- Depende de una red global que computa correcciones, a diferencia de DGPS no depende de estaciones cercanas que puden tener fallos.\n",
    "- Su posición es global y no en referncia a otra estación conocida.\n",
    "\n",
    "- Receptores de doble frecuencia.\n",
    "\n",
    "- El largo tiempo de inicialización es una desventaja.\n",
    "\n",
    "- La precisión de decímetros en movimiento y centímetros para el caso estático.\n",
    "\n",
    "- El PPP requiere de una gran cantidad de correcciones para alcanzar las exactitudes que ofrece"
   ]
  },
  {
   "cell_type": "markdown",
   "metadata": {},
   "source": [
    "# Input para PPP\n",
    "\n",
    "- Archivos de órbitas  y relojes \"Final IGS\" .sp3\n",
    "- Datos de observación Doble Frecuencia. RINEX\n",
    "- Archivo ANTEX para computar correcciones de APC"
   ]
  },
  {
   "cell_type": "code",
   "execution_count": null,
   "metadata": {
    "collapsed": true
   },
   "outputs": [],
   "source": [
    "import gpstk\n",
    "import numpy as np\n",
    "import pandas as pd"
   ]
  },
  {
   "cell_type": "code",
   "execution_count": null,
   "metadata": {
    "collapsed": false
   },
   "outputs": [],
   "source": [
    "#%cat igs18270.sp3"
   ]
  },
  {
   "cell_type": "code",
   "execution_count": null,
   "metadata": {
    "collapsed": false,
    "scrolled": true
   },
   "outputs": [],
   "source": [
    "#http://www.gpstk.org/pythondoc/newstuff.html\n",
    "#ssssdddf.yyt bogt0110.15o  estacion bogt día: 011 año 2015 gpsweek 1827 #ojo ha varios!\n",
    "header, data = gpstk.readSP3(\"igs18270.sp3\")\n",
    "print \"Agencia: \",header.agency, \"\\nCoordenadas: \",header.coordSystem , \"\\nNumero de epocas: \",header.numberOfEpochs, \"\\nSistema (tiempo): \",header.timeSystem,\"\\nIntervalos (min): \", header.epochInterval/60  # 15 minutos"
   ]
  },
  {
   "cell_type": "code",
   "execution_count": null,
   "metadata": {
    "collapsed": true
   },
   "outputs": [],
   "source": [
    "header, data = gpstk.readSP3(\"igs18270.sp3\", strict = True)"
   ]
  },
  {
   "cell_type": "code",
   "execution_count": null,
   "metadata": {
    "collapsed": false
   },
   "outputs": [],
   "source": [
    "print data[0]\n",
    "print data[1]\n",
    "print data[2]\n",
    "print data[3]"
   ]
  },
  {
   "cell_type": "code",
   "execution_count": null,
   "metadata": {
    "collapsed": false
   },
   "outputs": [],
   "source": [
    "print type(data[0])"
   ]
  },
  {
   "cell_type": "code",
   "execution_count": null,
   "metadata": {
    "collapsed": false
   },
   "outputs": [],
   "source": [
    "a = {\"sat\":[],\"clk\":[],\"x\":[],\"y\":[],\"z\":[],\"time\":[]}\n",
    "\n",
    "for i in range(1,len(data)):\n",
    "    #a.append([data[i].sat,data[i].clk,data[i].x[0],data[i].x[1],data[i].x[2] ,data[i].time])\n",
    "    a[\"sat\"].append(data[i].sat)\n",
    "    a[\"clk\"].append(data[i].clk)\n",
    "    a[\"x\"].append(data[i].x[0])\n",
    "    a[\"y\"].append(data[i].x[1])\n",
    "    a[\"z\"].append(data[i].x[2])\n",
    "    a[\"time\"].append(data[i].time)\n",
    "df = pd.DataFrame(a)"
   ]
  },
  {
   "cell_type": "code",
   "execution_count": null,
   "metadata": {
    "collapsed": false
   },
   "outputs": [],
   "source": [
    "df.head()\n",
    "#[SAT,CLK,X,Y,Z,GPSWEEK,]"
   ]
  },
  {
   "cell_type": "code",
   "execution_count": null,
   "metadata": {
    "collapsed": false
   },
   "outputs": [],
   "source": [
    "#http://www.gpstk.org/pythondoc/gpstk.SP3Data.html"
   ]
  },
  {
   "cell_type": "code",
   "execution_count": null,
   "metadata": {
    "collapsed": true
   },
   "outputs": [],
   "source": []
  },
  {
   "cell_type": "code",
   "execution_count": null,
   "metadata": {
    "collapsed": false
   },
   "outputs": [],
   "source": [
    "#compare with .nav\n",
    "nheader,ndata=gpstk.readRinex3Nav(\"bogt0110.15n\")\n",
    "bcestore = gpstk.GPSEphemerisStore() \n",
    "\n",
    "for ndato in ndata:\n",
    "    print ndato.sat\n",
    "    break\n",
    "    \"\"\"\n",
    "    ephem = ndato.toGPSEphemeris()\n",
    "    bcestore.addEphemeris(ephem)\n",
    "bcestore.SearchNear() \"\"\""
   ]
  },
  {
   "cell_type": "markdown",
   "metadata": {},
   "source": [
    "**Más links**\n",
    "\n",
    "[1] http://cafegeodesico.blogspot.com.co/2013/07/el-posicionamiento-puntual-preciso-ppp.html --> leer :)\n",
    "\n",
    "http://www.igs.org/analysis/gps-ppp\n",
    "\n",
    "http://kb.igs.org/hc/en-us/articles/201096516-IGS-Formats --> formatos\n",
    "\n",
    "http://kb.igs.org/hc/en-us/articles/202054393-IGS-FTP-Sites --> nuevo \"mapa\"\n",
    "\n",
    "ftp://cddis.gsfc.nasa.gov/gps/products/1172/ Semana ejemplo\n",
    "\n",
    "http://www.navipedia.net/index.php/Antenna_Phase_Centre  APC\n",
    "\n",
    "https://igscb.jpl.nasa.gov/igscb/station/general/igs_01.txt more APC\n",
    "\n",
    "igu11720_00.sp3.Z --> Orbitas y relojes precisos\n",
    "igu11720_00.erp.Z --> Parámetros de rotación de la tierra\n",
    "\n",
    "http://www.insidegnss.com/auto/NovDec06GNSSSolutions.pdf\n",
    "https://github.com/aewallin/ppp-tools repo que usa glab :(\n",
    "http://gage.upc.edu/drupal6/gLAB\n",
    "\n",
    "\n",
    "http://www.gps-forums.com/threads/interpolation-of-the-gps-satellite-positions-from-the-sp3-files.34188/  interpolacion de orbitas\n",
    "\n",
    "https://www.ngs.noaa.gov/CORS/Gpscal.shtml calendario de semanas GPS cada semana tiene un numero.\n",
    "\n",
    "http://gage.es/drupal6/forum/analysis-propagation-effects-gnss-observables-based-laboratory-exercises ejercicios gage usando glab\n",
    " \n",
    "https://github.com/rramosp/20152.ai.uis/blob/master/Notas%2003B%20-%20Filtros%20de%20Kalman.ipynb kalman\n",
    "ftp://igscb.jpl.nasa.gov/igscb/station/general/igs_01.pcv pcv info antenas\n",
    "\n",
    "ftp://igscb.jpl.nasa.gov/igscb/station/general/igs_01.atx antex igs :|\n",
    "ftp://igscb.jpl.nasa.gov/igscb/station/general/antex14.txt sobre antex\n",
    "\n",
    "ftp://igscb.jpl.nasa.gov/igscb/station/general/pcv_archive/ aqui hay más"
   ]
  },
  {
   "cell_type": "markdown",
   "metadata": {
    "slideshow": {
     "slide_type": "slide"
    }
   },
   "source": [
    "**Recptor: APC y ARP**\n",
    "\n",
    "APC Antenna phase center:  Centro de fase de la antena del receptor, esta definida como la fuente aparente de radiación. Su ubicación depende de la frecuencia, no es constante, no está necesariamente en el centro geométrico, de modo que un punto fijo en la base de la antena es usado como referencia. (ARP: Anthenna reference point).\n",
    "\n",
    "El APC depende de la dirección de la señal de radio que llega y por eso es dependiente del angulo (elevación y azimuth), los fabricantes proveen informacion relativa al ARP pero IGS computa correcciones en archivos PVC y ANTEX.\n",
    "\n",
    "\n",
    "#Image(\"antena.png\")\n"
   ]
  },
  {
   "cell_type": "markdown",
   "metadata": {
    "collapsed": true
   },
   "source": [
    "For official IGS models the following naming convention is used:\n",
    "\n",
    "   mmmmm_wwww.atx\n",
    "   |     |\n",
    "   |     +------- wwww: GPS week of the last file change\n",
    "   |\n",
    "   +------------ mmmmm: 5-character model name (will only be changed, if\n",
    "                        existing values are changed)"
   ]
  },
  {
   "cell_type": "code",
   "execution_count": null,
   "metadata": {
    "collapsed": true
   },
   "outputs": [],
   "source": []
  }
 ],
 "metadata": {
  "kernelspec": {
   "display_name": "Python 2",
   "language": "python",
   "name": "python2"
  },
  "language_info": {
   "codemirror_mode": {
    "name": "ipython",
    "version": 2
   },
   "file_extension": ".py",
   "mimetype": "text/x-python",
   "name": "python",
   "nbconvert_exporter": "python",
   "pygments_lexer": "ipython2",
   "version": "2.7.9"
  }
 },
 "nbformat": 4,
 "nbformat_minor": 0
}
