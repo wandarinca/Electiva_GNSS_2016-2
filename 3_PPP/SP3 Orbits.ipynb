{
 "cells": [
  {
   "cell_type": "markdown",
   "metadata": {},
   "source": [
    "Estación: bogt \n",
    "\n",
    "Día: 011 año 2015 \n",
    "\n",
    "Gpsweek: 1827 según el calendario https://www.ngs.noaa.gov/CORS/Gpscal.shtml\n",
    "\n",
    "\n",
    "%cat igs18270.sp3"
   ]
  },
  {
   "cell_type": "markdown",
   "metadata": {},
   "source": [
    "**Datos en formato sp3** <a href=\"http://www.gpstk.org/doxygen/classgpstk_1_1SP3Data.html\">link</a>\n",
    "\n",
    "clk: The clock bias or drift for P|V (microsec|1).\n",
    "\n",
    "sig [4]: Four-vector of integer exponents for estimated sigma of position,clock or velocity,clock rate; sigma = base**n units are mm,psec or 10^-4 mm/sec,psec/sec); base in head\n",
    "\n",
    "sdev [4]:std dev of 3 positions (XYZ,mm) and clock (psec) or velocities(10^-4 mm/sec) and clock rate (10^-4 ps/s) \n",
    "\n",
    "correlation [6]: elements of correlation matrix: xy,xz,xc,yz,yc,zc \n",
    "\n",
    "orbitPredFlag: orbit prediction flag, 'P' in file \n",
    "\n",
    "x [3]: The three-vector for position | velocity (m | dm/s). \n",
    "\n",
    "\n",
    "<a href=\"http://www.gpstk.org/pythondoc/search.html?q=sp3&check_keywords=yes&area=default\">métodos de este objeto</a>\n",
    "\n",
    "SP32NAV --> http://www.gpstk.org/bin/view/Documentation/UsingSP3toRinexNav\n",
    "http://folcomuns.firabcn.es/Globalgeo_Proceedings/Proceedings/Geodesia%20y%20Navegaci%C3%B3n/GNSS%20Products/Phase-based%20GNSS%20data%20processing....pdf\n",
    "\n",
    "[method for method in dir(object) if callable(getattr(object, method))]"
   ]
  },
  {
   "cell_type": "code",
   "execution_count": 36,
   "metadata": {
    "collapsed": true
   },
   "outputs": [],
   "source": [
    "import gpstk\n",
    "import numpy as np\n",
    "import pandas as pd"
   ]
  },
  {
   "cell_type": "code",
   "execution_count": 37,
   "metadata": {
    "collapsed": false
   },
   "outputs": [
    {
     "name": "stdout",
     "output_type": "stream",
     "text": [
      "Agencia:   IGS \n",
      "Coordenadas:  IGb08 \n",
      "Numero de epocas:  96 \n",
      "Sistema (tiempo):  GPS \n",
      "Intervalos (min):  15.0\n"
     ]
    }
   ],
   "source": [
    "header, data = gpstk.readSP3(\"data/igs18270.sp3\") #generador\n",
    "print \"Agencia: \",header.agency, \"\\nCoordenadas: \",header.coordSystem , \"\\nNumero de epocas: \",header.numberOfEpochs, \"\\nSistema (tiempo): \",header.timeSystem,\"\\nIntervalos (min): \", header.epochInterval/60  # 15 minutos"
   ]
  },
  {
   "cell_type": "code",
   "execution_count": 38,
   "metadata": {
    "collapsed": false
   },
   "outputs": [
    {
     "data": {
      "text/plain": [
       "gpstk.gpstk.SP3EphemerisStore"
      ]
     },
     "execution_count": 38,
     "metadata": {},
     "output_type": "execute_result"
    }
   ],
   "source": [
    "store = gpstk.SP3EphemerisStore()\n",
    "store.loadSP3File(\"data/igs18270.sp3\")\n",
    "type(store) #http://www.gpstk.org/doxygen/classgpstk_1_1SP3EphemerisStore.html"
   ]
  },
  {
   "cell_type": "code",
   "execution_count": 39,
   "metadata": {
    "collapsed": false
   },
   "outputs": [
    {
     "name": "stdout",
     "output_type": "stream",
     "text": [
      "<type 'tuple'>\n",
      "['GPS 1', 'GPS 2', 'GPS 3', 'GPS 4', 'GPS 5', 'GPS 6', 'GPS 7', 'GPS 8', 'GPS 9', 'GPS 10', 'GPS 11', 'GPS 12', 'GPS 13', 'GPS 14', 'GPS 15', 'GPS 16', 'GPS 17', 'GPS 18', 'GPS 19', 'GPS 20', 'GPS 21', 'GPS 22', 'GPS 23', 'GPS 24', 'GPS 25', 'GPS 27', 'GPS 28', 'GPS 29', 'GPS 30', 'GPS 31', 'GPS 32']\n"
     ]
    }
   ],
   "source": [
    "sats = store.getSatList()\n",
    "print type(sats)\n",
    "print [str(sat_id) for sat_id in sats]"
   ]
  },
  {
   "cell_type": "code",
   "execution_count": 40,
   "metadata": {
    "collapsed": false
   },
   "outputs": [
    {
     "name": "stdout",
     "output_type": "stream",
     "text": [
      "<class 'gpstk.gpstk.CommonTime'>\n"
     ]
    }
   ],
   "source": [
    "time0 = store.getInitialTime()\n",
    "print type(time0)"
   ]
  },
  {
   "cell_type": "code",
   "execution_count": 41,
   "metadata": {
    "collapsed": false
   },
   "outputs": [
    {
     "data": {
      "text/plain": [
       "<gpstk.gpstk.CommonTime; proxy of <Swig Object of type 'std::map< gpstk::CommonTime,gpstk::ObsEpoch >::key_type *' at 0x7f389876fcc0> >"
      ]
     },
     "execution_count": 41,
     "metadata": {},
     "output_type": "execute_result"
    }
   ],
   "source": [
    "store.getClockInitialTime()"
   ]
  },
  {
   "cell_type": "code",
   "execution_count": 42,
   "metadata": {
    "collapsed": false
   },
   "outputs": [],
   "source": [
    "#print store.getXvt(sats[-1],store.getClockInitialTime()) #why you no work!"
   ]
  },
  {
   "cell_type": "code",
   "execution_count": 43,
   "metadata": {
    "collapsed": false
   },
   "outputs": [],
   "source": [
    "#store.ndata()#Get number of SP3 files in FileStore #ejemplos de store\n",
    "#print store\n",
    "#store.getInterpolationOrder()"
   ]
  },
  {
   "cell_type": "markdown",
   "metadata": {},
   "source": [
    "# Con Pandas"
   ]
  },
  {
   "cell_type": "code",
   "execution_count": 44,
   "metadata": {
    "collapsed": true
   },
   "outputs": [],
   "source": [
    "a = {\"sat\":[],\"clk\":[],\"x\":[],\"y\":[],\"z\":[],\"sod\":[],\"sdev\":[],\"sig\":[],\"orbitPred\":[],\"corr\":[]}"
   ]
  },
  {
   "cell_type": "code",
   "execution_count": 45,
   "metadata": {
    "collapsed": false
   },
   "outputs": [],
   "source": [
    "for datum in data:\n",
    "    #print datum.sat, type(datum.time), datum.x, datum.sig, gpstk.YDSTime(datum.time).sod\n",
    "    a[\"sat\"].append(str(datum.sat))\n",
    "    a[\"clk\"].append(datum.clk)\n",
    "    a[\"x\"].append(datum.x[0])\n",
    "    a[\"y\"].append(datum.x[1])\n",
    "    a[\"z\"].append(datum.x[2])\n",
    "    a[\"sod\"].append(gpstk.YDSTime(datum.time).sod)\n",
    "    a[\"sdev\"].append(datum.sdev)\n",
    "    a[\"sig\"].append(datum.sig)\n",
    "    a[\"orbitPred\"].append(datum.orbitPredFlag)\n",
    "    a[\"corr\"].append(datum.correlation)\n",
    "\n",
    "df = pd.DataFrame(a)"
   ]
  },
  {
   "cell_type": "markdown",
   "metadata": {},
   "source": [
    "#compare with .nav\n",
    "nheader,ndata=gpstk.readRinex3Nav(\"bogt0110.15n\")\n",
    "bcestore = gpstk.GPSEphemerisStore() \n",
    "\n",
    "for ndato in ndata:\n",
    "    print ndato.sat\n",
    "    break\n",
    "    \"\"\"\n",
    "    ephem = ndato.toGPSEphemeris()\n",
    "    bcestore.addEphemeris(ephem)\n",
    "bcestore.SearchNear() \"\"\""
   ]
  },
  {
   "cell_type": "code",
   "execution_count": 46,
   "metadata": {
    "collapsed": false
   },
   "outputs": [
    {
     "data": {
      "text/html": [
       "<div>\n",
       "<table border=\"1\" class=\"dataframe\">\n",
       "  <thead>\n",
       "    <tr style=\"text-align: right;\">\n",
       "      <th></th>\n",
       "      <th>clk</th>\n",
       "      <th>corr</th>\n",
       "      <th>orbitPred</th>\n",
       "      <th>sat</th>\n",
       "      <th>sdev</th>\n",
       "      <th>sig</th>\n",
       "      <th>sod</th>\n",
       "      <th>x</th>\n",
       "      <th>y</th>\n",
       "      <th>z</th>\n",
       "    </tr>\n",
       "  </thead>\n",
       "  <tbody>\n",
       "    <tr>\n",
       "      <th>0</th>\n",
       "      <td>4.594811e-322</td>\n",
       "      <td>[0, 0, 0, 0, 0, 0]</td>\n",
       "      <td>False</td>\n",
       "      <td>GPS -1</td>\n",
       "      <td>[0, 0, 0, 0]</td>\n",
       "      <td>[0, 0, 0, 0]</td>\n",
       "      <td>0.0</td>\n",
       "      <td>7.905050e-323</td>\n",
       "      <td>3.162020e-322</td>\n",
       "      <td>9.881313e-324</td>\n",
       "    </tr>\n",
       "    <tr>\n",
       "      <th>1</th>\n",
       "      <td>-1.031158e+01</td>\n",
       "      <td>[0, 0, 0, 0, 0, 0]</td>\n",
       "      <td>False</td>\n",
       "      <td>GPS 1</td>\n",
       "      <td>[0, 0, 0, 0]</td>\n",
       "      <td>[8, 9, 10, 136]</td>\n",
       "      <td>0.0</td>\n",
       "      <td>-2.258700e+04</td>\n",
       "      <td>-1.373325e+04</td>\n",
       "      <td>-3.441579e+03</td>\n",
       "    </tr>\n",
       "    <tr>\n",
       "      <th>2</th>\n",
       "      <td>5.411187e+02</td>\n",
       "      <td>[0, 0, 0, 0, 0, 0]</td>\n",
       "      <td>False</td>\n",
       "      <td>GPS 2</td>\n",
       "      <td>[0, 0, 0, 0]</td>\n",
       "      <td>[8, 6, 9, 131]</td>\n",
       "      <td>0.0</td>\n",
       "      <td>3.602560e+03</td>\n",
       "      <td>1.761547e+04</td>\n",
       "      <td>2.002291e+04</td>\n",
       "    </tr>\n",
       "    <tr>\n",
       "      <th>3</th>\n",
       "      <td>1.398603e+02</td>\n",
       "      <td>[0, 0, 0, 0, 0, 0]</td>\n",
       "      <td>False</td>\n",
       "      <td>GPS 3</td>\n",
       "      <td>[0, 0, 0, 0]</td>\n",
       "      <td>[8, 10, 8, 111]</td>\n",
       "      <td>0.0</td>\n",
       "      <td>-1.300038e+04</td>\n",
       "      <td>-1.594684e+04</td>\n",
       "      <td>1.677691e+04</td>\n",
       "    </tr>\n",
       "    <tr>\n",
       "      <th>4</th>\n",
       "      <td>-5.477739e+00</td>\n",
       "      <td>[0, 0, 0, 0, 0, 0]</td>\n",
       "      <td>False</td>\n",
       "      <td>GPS 4</td>\n",
       "      <td>[0, 0, 0, 0]</td>\n",
       "      <td>[8, 9, 9, 138]</td>\n",
       "      <td>0.0</td>\n",
       "      <td>-1.568542e+04</td>\n",
       "      <td>-1.761835e+04</td>\n",
       "      <td>-1.277747e+04</td>\n",
       "    </tr>\n",
       "  </tbody>\n",
       "</table>\n",
       "</div>"
      ],
      "text/plain": [
       "             clk                corr orbitPred     sat          sdev  \\\n",
       "0  4.594811e-322  [0, 0, 0, 0, 0, 0]     False  GPS -1  [0, 0, 0, 0]   \n",
       "1  -1.031158e+01  [0, 0, 0, 0, 0, 0]     False   GPS 1  [0, 0, 0, 0]   \n",
       "2   5.411187e+02  [0, 0, 0, 0, 0, 0]     False   GPS 2  [0, 0, 0, 0]   \n",
       "3   1.398603e+02  [0, 0, 0, 0, 0, 0]     False   GPS 3  [0, 0, 0, 0]   \n",
       "4  -5.477739e+00  [0, 0, 0, 0, 0, 0]     False   GPS 4  [0, 0, 0, 0]   \n",
       "\n",
       "               sig  sod              x              y              z  \n",
       "0     [0, 0, 0, 0]  0.0  7.905050e-323  3.162020e-322  9.881313e-324  \n",
       "1  [8, 9, 10, 136]  0.0  -2.258700e+04  -1.373325e+04  -3.441579e+03  \n",
       "2   [8, 6, 9, 131]  0.0   3.602560e+03   1.761547e+04   2.002291e+04  \n",
       "3  [8, 10, 8, 111]  0.0  -1.300038e+04  -1.594684e+04   1.677691e+04  \n",
       "4   [8, 9, 9, 138]  0.0  -1.568542e+04  -1.761835e+04  -1.277747e+04  "
      ]
     },
     "execution_count": 46,
     "metadata": {},
     "output_type": "execute_result"
    }
   ],
   "source": [
    "df.head()"
   ]
  },
  {
   "cell_type": "code",
   "execution_count": 58,
   "metadata": {
    "collapsed": false
   },
   "outputs": [
    {
     "name": "stdout",
     "output_type": "stream",
     "text": [
      "96\n",
      "96\n"
     ]
    }
   ],
   "source": [
    "print len(np.unique(df.sod)) #96 epocas!\n",
    "print 24*3600/900 # intervalos de 15 minutos en un día.. se pueden interpolar"
   ]
  },
  {
   "cell_type": "code",
   "execution_count": null,
   "metadata": {
    "collapsed": true
   },
   "outputs": [],
   "source": []
  }
 ],
 "metadata": {
  "kernelspec": {
   "display_name": "Python 2",
   "language": "python",
   "name": "python2"
  },
  "language_info": {
   "codemirror_mode": {
    "name": "ipython",
    "version": 2
   },
   "file_extension": ".py",
   "mimetype": "text/x-python",
   "name": "python",
   "nbconvert_exporter": "python",
   "pygments_lexer": "ipython2",
   "version": "2.7.9"
  }
 },
 "nbformat": 4,
 "nbformat_minor": 0
}
